{
 "cells": [
  {
   "cell_type": "code",
   "execution_count": 1,
   "id": "017b0318-3af3-40dc-b15e-0f66c1233498",
   "metadata": {},
   "outputs": [
    {
     "name": "stdout",
     "output_type": "stream",
     "text": [
      "Requirement already satisfied: gradio in c:\\users\\lenovo\\anaconda3\\envs\\toxic-nlp\\lib\\site-packages (4.44.1)\n",
      "Requirement already satisfied: jinja2 in c:\\users\\lenovo\\anaconda3\\envs\\toxic-nlp\\lib\\site-packages (3.1.6)\n",
      "Requirement already satisfied: aiofiles<24.0,>=22.0 in c:\\users\\lenovo\\anaconda3\\envs\\toxic-nlp\\lib\\site-packages (from gradio) (23.2.1)\n",
      "Requirement already satisfied: anyio<5.0,>=3.0 in c:\\users\\lenovo\\anaconda3\\envs\\toxic-nlp\\lib\\site-packages (from gradio) (4.9.0)\n",
      "Requirement already satisfied: fastapi<1.0 in c:\\users\\lenovo\\anaconda3\\envs\\toxic-nlp\\lib\\site-packages (from gradio) (0.115.12)\n",
      "Requirement already satisfied: ffmpy in c:\\users\\lenovo\\anaconda3\\envs\\toxic-nlp\\lib\\site-packages (from gradio) (0.5.0)\n",
      "Requirement already satisfied: gradio-client==1.3.0 in c:\\users\\lenovo\\anaconda3\\envs\\toxic-nlp\\lib\\site-packages (from gradio) (1.3.0)\n",
      "Requirement already satisfied: httpx>=0.24.1 in c:\\users\\lenovo\\anaconda3\\envs\\toxic-nlp\\lib\\site-packages (from gradio) (0.28.1)\n",
      "Requirement already satisfied: huggingface-hub>=0.19.3 in c:\\users\\lenovo\\anaconda3\\envs\\toxic-nlp\\lib\\site-packages (from gradio) (0.30.2)\n",
      "Requirement already satisfied: importlib-resources<7.0,>=1.3 in c:\\users\\lenovo\\anaconda3\\envs\\toxic-nlp\\lib\\site-packages (from gradio) (6.5.2)\n",
      "Requirement already satisfied: markupsafe~=2.0 in c:\\users\\lenovo\\anaconda3\\envs\\toxic-nlp\\lib\\site-packages (from gradio) (2.1.5)\n",
      "Requirement already satisfied: matplotlib~=3.0 in c:\\users\\lenovo\\anaconda3\\envs\\toxic-nlp\\lib\\site-packages (from gradio) (3.9.4)\n",
      "Requirement already satisfied: numpy<3.0,>=1.0 in c:\\users\\lenovo\\anaconda3\\envs\\toxic-nlp\\lib\\site-packages (from gradio) (1.26.4)\n",
      "Requirement already satisfied: orjson~=3.0 in c:\\users\\lenovo\\anaconda3\\envs\\toxic-nlp\\lib\\site-packages (from gradio) (3.10.16)\n",
      "Requirement already satisfied: packaging in c:\\users\\lenovo\\anaconda3\\envs\\toxic-nlp\\lib\\site-packages (from gradio) (25.0)\n",
      "Requirement already satisfied: pandas<3.0,>=1.0 in c:\\users\\lenovo\\anaconda3\\envs\\toxic-nlp\\lib\\site-packages (from gradio) (1.5.3)\n",
      "Requirement already satisfied: pillow<11.0,>=8.0 in c:\\users\\lenovo\\anaconda3\\envs\\toxic-nlp\\lib\\site-packages (from gradio) (10.4.0)\n",
      "Requirement already satisfied: pydantic>=2.0 in c:\\users\\lenovo\\anaconda3\\envs\\toxic-nlp\\lib\\site-packages (from gradio) (2.11.3)\n",
      "Requirement already satisfied: pydub in c:\\users\\lenovo\\anaconda3\\envs\\toxic-nlp\\lib\\site-packages (from gradio) (0.25.1)\n",
      "Requirement already satisfied: python-multipart>=0.0.9 in c:\\users\\lenovo\\anaconda3\\envs\\toxic-nlp\\lib\\site-packages (from gradio) (0.0.20)\n",
      "Requirement already satisfied: pyyaml<7.0,>=5.0 in c:\\users\\lenovo\\anaconda3\\envs\\toxic-nlp\\lib\\site-packages (from gradio) (6.0.2)\n",
      "Requirement already satisfied: ruff>=0.2.2 in c:\\users\\lenovo\\anaconda3\\envs\\toxic-nlp\\lib\\site-packages (from gradio) (0.11.6)\n",
      "Requirement already satisfied: semantic-version~=2.0 in c:\\users\\lenovo\\anaconda3\\envs\\toxic-nlp\\lib\\site-packages (from gradio) (2.10.0)\n",
      "Requirement already satisfied: tomlkit==0.12.0 in c:\\users\\lenovo\\anaconda3\\envs\\toxic-nlp\\lib\\site-packages (from gradio) (0.12.0)\n",
      "Requirement already satisfied: typer<1.0,>=0.12 in c:\\users\\lenovo\\anaconda3\\envs\\toxic-nlp\\lib\\site-packages (from gradio) (0.15.2)\n",
      "Requirement already satisfied: typing-extensions~=4.0 in c:\\users\\lenovo\\anaconda3\\envs\\toxic-nlp\\lib\\site-packages (from gradio) (4.13.2)\n",
      "Requirement already satisfied: urllib3~=2.0 in c:\\users\\lenovo\\anaconda3\\envs\\toxic-nlp\\lib\\site-packages (from gradio) (2.4.0)\n",
      "Requirement already satisfied: uvicorn>=0.14.0 in c:\\users\\lenovo\\anaconda3\\envs\\toxic-nlp\\lib\\site-packages (from gradio) (0.34.2)\n",
      "Requirement already satisfied: fsspec in c:\\users\\lenovo\\anaconda3\\envs\\toxic-nlp\\lib\\site-packages (from gradio-client==1.3.0->gradio) (2025.3.2)\n",
      "Requirement already satisfied: websockets<13.0,>=10.0 in c:\\users\\lenovo\\anaconda3\\envs\\toxic-nlp\\lib\\site-packages (from gradio-client==1.3.0->gradio) (12.0)\n",
      "Requirement already satisfied: exceptiongroup>=1.0.2 in c:\\users\\lenovo\\anaconda3\\envs\\toxic-nlp\\lib\\site-packages (from anyio<5.0,>=3.0->gradio) (1.2.2)\n",
      "Requirement already satisfied: idna>=2.8 in c:\\users\\lenovo\\anaconda3\\envs\\toxic-nlp\\lib\\site-packages (from anyio<5.0,>=3.0->gradio) (3.10)\n",
      "Requirement already satisfied: sniffio>=1.1 in c:\\users\\lenovo\\anaconda3\\envs\\toxic-nlp\\lib\\site-packages (from anyio<5.0,>=3.0->gradio) (1.3.1)\n",
      "Requirement already satisfied: starlette<0.47.0,>=0.40.0 in c:\\users\\lenovo\\anaconda3\\envs\\toxic-nlp\\lib\\site-packages (from fastapi<1.0->gradio) (0.46.2)\n",
      "Requirement already satisfied: certifi in c:\\users\\lenovo\\anaconda3\\envs\\toxic-nlp\\lib\\site-packages (from httpx>=0.24.1->gradio) (2025.1.31)\n",
      "Requirement already satisfied: httpcore==1.* in c:\\users\\lenovo\\anaconda3\\envs\\toxic-nlp\\lib\\site-packages (from httpx>=0.24.1->gradio) (1.0.8)\n",
      "Requirement already satisfied: h11<0.15,>=0.13 in c:\\users\\lenovo\\anaconda3\\envs\\toxic-nlp\\lib\\site-packages (from httpcore==1.*->httpx>=0.24.1->gradio) (0.14.0)\n",
      "Requirement already satisfied: filelock in c:\\users\\lenovo\\anaconda3\\envs\\toxic-nlp\\lib\\site-packages (from huggingface-hub>=0.19.3->gradio) (3.18.0)\n",
      "Requirement already satisfied: requests in c:\\users\\lenovo\\anaconda3\\envs\\toxic-nlp\\lib\\site-packages (from huggingface-hub>=0.19.3->gradio) (2.32.3)\n",
      "Requirement already satisfied: tqdm>=4.42.1 in c:\\users\\lenovo\\anaconda3\\envs\\toxic-nlp\\lib\\site-packages (from huggingface-hub>=0.19.3->gradio) (4.67.1)\n",
      "Requirement already satisfied: zipp>=3.1.0 in c:\\users\\lenovo\\anaconda3\\envs\\toxic-nlp\\lib\\site-packages (from importlib-resources<7.0,>=1.3->gradio) (3.21.0)\n",
      "Requirement already satisfied: contourpy>=1.0.1 in c:\\users\\lenovo\\anaconda3\\envs\\toxic-nlp\\lib\\site-packages (from matplotlib~=3.0->gradio) (1.3.0)\n",
      "Requirement already satisfied: cycler>=0.10 in c:\\users\\lenovo\\anaconda3\\envs\\toxic-nlp\\lib\\site-packages (from matplotlib~=3.0->gradio) (0.12.1)\n",
      "Requirement already satisfied: fonttools>=4.22.0 in c:\\users\\lenovo\\anaconda3\\envs\\toxic-nlp\\lib\\site-packages (from matplotlib~=3.0->gradio) (4.57.0)\n",
      "Requirement already satisfied: kiwisolver>=1.3.1 in c:\\users\\lenovo\\anaconda3\\envs\\toxic-nlp\\lib\\site-packages (from matplotlib~=3.0->gradio) (1.4.7)\n",
      "Requirement already satisfied: pyparsing>=2.3.1 in c:\\users\\lenovo\\anaconda3\\envs\\toxic-nlp\\lib\\site-packages (from matplotlib~=3.0->gradio) (3.2.3)\n",
      "Requirement already satisfied: python-dateutil>=2.7 in c:\\users\\lenovo\\anaconda3\\envs\\toxic-nlp\\lib\\site-packages (from matplotlib~=3.0->gradio) (2.9.0.post0)\n",
      "Requirement already satisfied: pytz>=2020.1 in c:\\users\\lenovo\\anaconda3\\envs\\toxic-nlp\\lib\\site-packages (from pandas<3.0,>=1.0->gradio) (2025.2)\n",
      "Requirement already satisfied: annotated-types>=0.6.0 in c:\\users\\lenovo\\anaconda3\\envs\\toxic-nlp\\lib\\site-packages (from pydantic>=2.0->gradio) (0.7.0)\n",
      "Requirement already satisfied: pydantic-core==2.33.1 in c:\\users\\lenovo\\anaconda3\\envs\\toxic-nlp\\lib\\site-packages (from pydantic>=2.0->gradio) (2.33.1)\n",
      "Requirement already satisfied: typing-inspection>=0.4.0 in c:\\users\\lenovo\\anaconda3\\envs\\toxic-nlp\\lib\\site-packages (from pydantic>=2.0->gradio) (0.4.0)\n",
      "Requirement already satisfied: click>=8.0.0 in c:\\users\\lenovo\\anaconda3\\envs\\toxic-nlp\\lib\\site-packages (from typer<1.0,>=0.12->gradio) (8.1.8)\n",
      "Requirement already satisfied: shellingham>=1.3.0 in c:\\users\\lenovo\\anaconda3\\envs\\toxic-nlp\\lib\\site-packages (from typer<1.0,>=0.12->gradio) (1.5.4)\n",
      "Requirement already satisfied: rich>=10.11.0 in c:\\users\\lenovo\\anaconda3\\envs\\toxic-nlp\\lib\\site-packages (from typer<1.0,>=0.12->gradio) (14.0.0)\n",
      "Requirement already satisfied: colorama in c:\\users\\lenovo\\anaconda3\\envs\\toxic-nlp\\lib\\site-packages (from click>=8.0.0->typer<1.0,>=0.12->gradio) (0.4.6)\n",
      "Requirement already satisfied: six>=1.5 in c:\\users\\lenovo\\anaconda3\\envs\\toxic-nlp\\lib\\site-packages (from python-dateutil>=2.7->matplotlib~=3.0->gradio) (1.17.0)\n",
      "Requirement already satisfied: markdown-it-py>=2.2.0 in c:\\users\\lenovo\\anaconda3\\envs\\toxic-nlp\\lib\\site-packages (from rich>=10.11.0->typer<1.0,>=0.12->gradio) (3.0.0)\n",
      "Requirement already satisfied: pygments<3.0.0,>=2.13.0 in c:\\users\\lenovo\\anaconda3\\envs\\toxic-nlp\\lib\\site-packages (from rich>=10.11.0->typer<1.0,>=0.12->gradio) (2.19.1)\n",
      "Requirement already satisfied: charset-normalizer<4,>=2 in c:\\users\\lenovo\\anaconda3\\envs\\toxic-nlp\\lib\\site-packages (from requests->huggingface-hub>=0.19.3->gradio) (3.4.1)\n",
      "Requirement already satisfied: mdurl~=0.1 in c:\\users\\lenovo\\anaconda3\\envs\\toxic-nlp\\lib\\site-packages (from markdown-it-py>=2.2.0->rich>=10.11.0->typer<1.0,>=0.12->gradio) (0.1.2)\n"
     ]
    }
   ],
   "source": [
    "!pip install gradio jinja2"
   ]
  },
  {
   "cell_type": "code",
   "execution_count": 16,
   "id": "b48eff80-9527-419f-bcce-01fa6f72b4e9",
   "metadata": {},
   "outputs": [],
   "source": [
    "import tensorflow as tf\n",
    "import gradio as gr"
   ]
  },
  {
   "cell_type": "code",
   "execution_count": 17,
   "id": "e674f4f2-10db-434d-a92b-69059871f643",
   "metadata": {},
   "outputs": [],
   "source": [
    "model = tf.keras.models.load_model('dl_model_comment_classifier.h5')"
   ]
  },
  {
   "cell_type": "code",
   "execution_count": 18,
   "id": "6ee43503-04a2-4986-962a-14c0632172f5",
   "metadata": {},
   "outputs": [],
   "source": [
    "MAX_FEATURES = 200000 # number of words in the vocab"
   ]
  },
  {
   "cell_type": "code",
   "execution_count": 20,
   "id": "b63281e2-faf9-48d8-bbe4-c1ed84eaa967",
   "metadata": {},
   "outputs": [],
   "source": [
    "import tensorflow as tf\n",
    "import pandas as pd\n",
    "import numpy as np\n",
    "import gradio as gr\n",
    "from tensorflow.keras.layers import TextVectorization\n"
   ]
  },
  {
   "cell_type": "code",
   "execution_count": 21,
   "id": "eea9e913-fef6-4744-b42e-ef3f7dc3a3c6",
   "metadata": {},
   "outputs": [],
   "source": [
    "\n",
    "df = pd.read_csv('unzipped_folder/jigsaw-toxic-comment-classification-challenge/train.csv/train.csv')\n",
    "\n",
    "X = df['comment_text']\n"
   ]
  },
  {
   "cell_type": "code",
   "execution_count": 22,
   "id": "353a4313-3e19-4b3c-839e-613297abb0a4",
   "metadata": {},
   "outputs": [],
   "source": [
    "MAX_FEATURES = 200000\n",
    "vectorizer = TextVectorization(max_tokens=MAX_FEATURES,\n",
    "                               output_sequence_length=1800,\n",
    "                               output_mode='int')\n"
   ]
  },
  {
   "cell_type": "code",
   "execution_count": 23,
   "id": "0e4aa3d4-e181-42c7-b6e5-612653d089c4",
   "metadata": {},
   "outputs": [],
   "source": [
    "vectorizer.adapt(X.values)  # Required to make predictions\n",
    "\n"
   ]
  },
  {
   "cell_type": "code",
   "execution_count": 24,
   "id": "051052b3-eb35-4231-8c8d-c4cf945455a4",
   "metadata": {},
   "outputs": [],
   "source": [
    "\n",
    "model = tf.keras.models.load_model('dl_model_comment_classifier.h5')\n"
   ]
  },
  {
   "cell_type": "code",
   "execution_count": 25,
   "id": "5ddb0f69-3a66-4744-a984-9708c4d1cf08",
   "metadata": {},
   "outputs": [],
   "source": [
    "#prediction function\n",
    "def score_comment(comment):\n",
    "    vectorized_comment = vectorizer([comment])\n",
    "    results = model.predict(vectorized_comment)\n",
    "    text = ''\n",
    "    for idx, col in enumerate(df.columns[2:]):\n",
    "        text += '{}: {}\\n'.format(col, results[0][idx] > 0.5)\n",
    "    return text\n",
    "\n"
   ]
  },
  {
   "cell_type": "code",
   "execution_count": 26,
   "id": "d0265250-d71f-419f-bfd7-69428479b776",
   "metadata": {},
   "outputs": [
    {
     "name": "stdout",
     "output_type": "stream",
     "text": [
      "Running on local URL:  http://127.0.0.1:7864\n",
      "Running on public URL: https://f12be38a516dbe270d.gradio.live\n",
      "\n",
      "This share link expires in 72 hours. For free permanent hosting and GPU upgrades, run `gradio deploy` from Terminal to deploy to Spaces (https://huggingface.co/spaces)\n"
     ]
    },
    {
     "data": {
      "text/html": [
       "<div><iframe src=\"https://f12be38a516dbe270d.gradio.live\" width=\"100%\" height=\"500\" allow=\"autoplay; camera; microphone; clipboard-read; clipboard-write;\" frameborder=\"0\" allowfullscreen></iframe></div>"
      ],
      "text/plain": [
       "<IPython.core.display.HTML object>"
      ]
     },
     "metadata": {},
     "output_type": "display_data"
    },
    {
     "data": {
      "text/plain": []
     },
     "execution_count": 26,
     "metadata": {},
     "output_type": "execute_result"
    },
    {
     "name": "stdout",
     "output_type": "stream",
     "text": [
      "1/1 [==============================] - 0s 496ms/step\n"
     ]
    }
   ],
   "source": [
    "# 5. Gradio interface\n",
    "interface = gr.Interface(\n",
    "    fn=score_comment,\n",
    "    inputs=gr.Textbox(lines=2, placeholder='Comment to score', label=\"Enter a comment\"),\n",
    "    outputs=gr.Textbox(label=\"Toxicity Score\")\n",
    ")\n",
    "\n",
    "interface.launch(share=True)"
   ]
  },
  {
   "cell_type": "code",
   "execution_count": null,
   "id": "341b29c6-440f-417a-aae4-4425082f77ec",
   "metadata": {},
   "outputs": [],
   "source": [
    "bibha"
   ]
  }
 ],
 "metadata": {
  "kernelspec": {
   "display_name": "Python 3 (ipykernel)",
   "language": "python",
   "name": "python3"
  },
  "language_info": {
   "codemirror_mode": {
    "name": "ipython",
    "version": 3
   },
   "file_extension": ".py",
   "mimetype": "text/x-python",
   "name": "python",
   "nbconvert_exporter": "python",
   "pygments_lexer": "ipython3",
   "version": "3.9.12"
  }
 },
 "nbformat": 4,
 "nbformat_minor": 5
}
